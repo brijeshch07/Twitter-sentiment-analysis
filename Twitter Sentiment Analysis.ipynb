{
 "cells": [
  {
   "cell_type": "code",
   "execution_count": 1,
   "metadata": {},
   "outputs": [],
   "source": [
    "import tweepy\n",
    "from textblob import TextBlob"
   ]
  },
  {
   "cell_type": "code",
   "execution_count": 2,
   "metadata": {},
   "outputs": [],
   "source": [
    "import pandas as pd"
   ]
  },
  {
   "cell_type": "code",
   "execution_count": 3,
   "metadata": {},
   "outputs": [],
   "source": [
    "consumer_key = 'TzOnP6qie70lZgeaTmBFqCEFL'\n",
    "consumer_key_secret = '3hewxUr7uH566DIt83pRYsZnu8LbUVxWMSnYuoGTfjkMYK2n6V'\n",
    "access_token = '420958389-CpgWrksQ6AIvjJutFmys5rUTXfZsBMEXnIgOqjbm'\n",
    "access_token_secret = 'hWankvnSqQ19wlz2gOPtfqQg1UifXbYVFfnTuzYW1ECr5'"
   ]
  },
  {
   "cell_type": "code",
   "execution_count": 4,
   "metadata": {},
   "outputs": [
    {
     "name": "stdout",
     "output_type": "stream",
     "text": [
      "['API', 'AppAuthHandler', 'Cache', 'Cursor', 'DirectMessage', 'FileCache', 'Friendship', 'MemoryCache', 'ModelFactory', 'OAuthHandler', 'RateLimitError', 'SavedSearch', 'SearchResults', 'Status', 'Stream', 'StreamListener', 'TweepError', 'User', '__author__', '__builtins__', '__cached__', '__doc__', '__file__', '__license__', '__loader__', '__name__', '__package__', '__path__', '__spec__', '__version__', 'api', 'auth', 'binder', 'cache', 'cursor', 'debug', 'error', 'models', 'parsers', 'streaming', 'utils']\n"
     ]
    }
   ],
   "source": [
    "print(dir(tweepy))"
   ]
  },
  {
   "cell_type": "code",
   "execution_count": 5,
   "metadata": {},
   "outputs": [],
   "source": [
    "authorize = tweepy.OAuthHandler(consumer_key,consumer_key_secret)\n",
    "authorize.set_access_token(access_token,access_token_secret)"
   ]
  },
  {
   "cell_type": "code",
   "execution_count": 6,
   "metadata": {},
   "outputs": [],
   "source": [
    "api = tweepy.API(authorize)"
   ]
  },
  {
   "cell_type": "code",
   "execution_count": 7,
   "metadata": {},
   "outputs": [],
   "source": [
    "all_tweets = api.search('Pegasus')"
   ]
  },
  {
   "cell_type": "code",
   "execution_count": 8,
   "metadata": {},
   "outputs": [
    {
     "name": "stdout",
     "output_type": "stream",
     "text": [
      "['__add__', '__class__', '__contains__', '__delattr__', '__delitem__', '__dict__', '__dir__', '__doc__', '__eq__', '__format__', '__ge__', '__getattribute__', '__getitem__', '__gt__', '__hash__', '__iadd__', '__imul__', '__init__', '__init_subclass__', '__iter__', '__le__', '__len__', '__lt__', '__module__', '__mul__', '__ne__', '__new__', '__reduce__', '__reduce_ex__', '__repr__', '__reversed__', '__rmul__', '__setattr__', '__setitem__', '__sizeof__', '__str__', '__subclasshook__', '__weakref__', '_max_id', '_since_id', 'append', 'clear', 'completed_in', 'copy', 'count', 'extend', 'ids', 'index', 'insert', 'max_id', 'next_results', 'parse', 'pop', 'query', 'refresh_url', 'remove', 'reverse', 'since_id', 'sort']\n"
     ]
    }
   ],
   "source": [
    "print(dir(all_tweets))"
   ]
  },
  {
   "cell_type": "code",
   "execution_count": 9,
   "metadata": {},
   "outputs": [
    {
     "name": "stdout",
     "output_type": "stream",
     "text": [
      "['__add__', '__class__', '__contains__', '__delattr__', '__dict__', '__dir__', '__doc__', '__eq__', '__format__', '__ge__', '__getattribute__', '__getitem__', '__gt__', '__hash__', '__init__', '__init_subclass__', '__iter__', '__le__', '__len__', '__lt__', '__module__', '__ne__', '__new__', '__reduce__', '__reduce_ex__', '__repr__', '__setattr__', '__sizeof__', '__str__', '__subclasshook__', '__weakref__', '_cmpkey', '_compare', '_create_sentence_objects', '_strkey', 'analyzer', 'classify', 'correct', 'detect_language', 'ends_with', 'endswith', 'find', 'format', 'index', 'join', 'json', 'lower', 'ngrams', 'noun_phrases', 'np_counts', 'np_extractor', 'parse', 'parser', 'polarity', 'pos_tagger', 'pos_tags', 'raw_sentences', 'replace', 'rfind', 'rindex', 'sentences', 'sentiment', 'sentiment_assessments', 'serialized', 'split', 'starts_with', 'startswith', 'strip', 'subjectivity', 'tags', 'title', 'to_json', 'tokenize', 'tokenizer', 'tokens', 'translate', 'translator', 'upper', 'word_counts', 'words']\n"
     ]
    }
   ],
   "source": [
    "print(dir(TextBlob))"
   ]
  },
  {
   "cell_type": "code",
   "execution_count": 10,
   "metadata": {},
   "outputs": [
    {
     "name": "stdout",
     "output_type": "stream",
     "text": [
      "{'created_at': 'Tue Aug 03 17:44:44 +0000 2021', 'id': 1422614423777288192, 'id_str': '1422614423777288192', 'text': 'RT @LouMarieHSD: Nossas reflexões sobre a zona cinzenta entre atividades de intel, OSINT e aquisição de techs.O Pegasus é o caso mais evide…', 'truncated': False, 'entities': {'hashtags': [], 'symbols': [], 'user_mentions': [{'screen_name': 'LouMarieHSD', 'name': 'Louise Marie Hurel - see you in cyberspace', 'id': 1206374840, 'id_str': '1206374840', 'indices': [3, 15]}], 'urls': []}, 'metadata': {'iso_language_code': 'pt', 'result_type': 'recent'}, 'source': '<a href=\"https://mobile.twitter.com\" rel=\"nofollow\">Twitter Web App</a>', 'in_reply_to_status_id': None, 'in_reply_to_status_id_str': None, 'in_reply_to_user_id': None, 'in_reply_to_user_id_str': None, 'in_reply_to_screen_name': None, 'user': {'id': 598958602, 'id_str': '598958602', 'name': 'Instituto Igarapé', 'screen_name': 'igarape_org', 'location': 'Rio de Janeiro, Brazil', 'description': 'O Instituto Igarapé é um think and do tank independente focado nas áreas de segurança pública, climática e digital e suas consequências para a democracia.', 'url': 'http://t.co/XIM03Sf4WG', 'entities': {'url': {'urls': [{'url': 'http://t.co/XIM03Sf4WG', 'expanded_url': 'http://igarape.org.br/', 'display_url': 'igarape.org.br', 'indices': [0, 22]}]}, 'description': {'urls': []}}, 'protected': False, 'followers_count': 16791, 'friends_count': 1832, 'listed_count': 255, 'created_at': 'Mon Jun 04 05:19:15 +0000 2012', 'favourites_count': 4190, 'utc_offset': None, 'time_zone': None, 'geo_enabled': True, 'verified': True, 'statuses_count': 7838, 'lang': None, 'contributors_enabled': False, 'is_translator': False, 'is_translation_enabled': False, 'profile_background_color': '660101', 'profile_background_image_url': 'http://abs.twimg.com/images/themes/theme1/bg.png', 'profile_background_image_url_https': 'https://abs.twimg.com/images/themes/theme1/bg.png', 'profile_background_tile': False, 'profile_image_url': 'http://pbs.twimg.com/profile_images/1412097483212308480/bxzpbikc_normal.jpg', 'profile_image_url_https': 'https://pbs.twimg.com/profile_images/1412097483212308480/bxzpbikc_normal.jpg', 'profile_banner_url': 'https://pbs.twimg.com/profile_banners/598958602/1625603294', 'profile_link_color': '850505', 'profile_sidebar_border_color': 'C0DEED', 'profile_sidebar_fill_color': 'DDEEF6', 'profile_text_color': '333333', 'profile_use_background_image': False, 'has_extended_profile': False, 'default_profile': False, 'default_profile_image': False, 'following': False, 'follow_request_sent': False, 'notifications': False, 'translator_type': 'none', 'withheld_in_countries': []}, 'geo': None, 'coordinates': None, 'place': None, 'contributors': None, 'retweeted_status': {'created_at': 'Tue Aug 03 16:10:56 +0000 2021', 'id': 1422590817798131716, 'id_str': '1422590817798131716', 'text': 'Nossas reflexões sobre a zona cinzenta entre atividades de intel, OSINT e aquisição de techs.O Pegasus é o caso mai… https://t.co/ic2Azu9iTH', 'truncated': True, 'entities': {'hashtags': [], 'symbols': [], 'user_mentions': [], 'urls': [{'url': 'https://t.co/ic2Azu9iTH', 'expanded_url': 'https://twitter.com/i/web/status/1422590817798131716', 'display_url': 'twitter.com/i/web/status/1…', 'indices': [117, 140]}]}, 'metadata': {'iso_language_code': 'pt', 'result_type': 'recent'}, 'source': '<a href=\"https://mobile.twitter.com\" rel=\"nofollow\">Twitter Web App</a>', 'in_reply_to_status_id': None, 'in_reply_to_status_id_str': None, 'in_reply_to_user_id': None, 'in_reply_to_user_id_str': None, 'in_reply_to_screen_name': None, 'user': {'id': 1206374840, 'id_str': '1206374840', 'name': 'Louise Marie Hurel - see you in cyberspace', 'screen_name': 'LouMarieHSD', 'location': 'London, England', 'description': 'Cybersecurity, Expertise, Incidents, Risk, Governance | PhD Researcher @MediaLSE | @thegfce AB| Digital Sec @Igarape_org | Non-Resident Fellow @InternetGov', 'url': 'https://t.co/oOWQA686nC', 'entities': {'url': {'urls': [{'url': 'https://t.co/oOWQA686nC', 'expanded_url': 'https://louisemariehurel.com', 'display_url': 'louisemariehurel.com', 'indices': [0, 23]}]}, 'description': {'urls': []}}, 'protected': False, 'followers_count': 2685, 'friends_count': 3814, 'listed_count': 81, 'created_at': 'Fri Feb 22 00:32:18 +0000 2013', 'favourites_count': 12055, 'utc_offset': None, 'time_zone': None, 'geo_enabled': True, 'verified': False, 'statuses_count': 3740, 'lang': None, 'contributors_enabled': False, 'is_translator': False, 'is_translation_enabled': False, 'profile_background_color': '000000', 'profile_background_image_url': 'http://abs.twimg.com/images/themes/theme1/bg.png', 'profile_background_image_url_https': 'https://abs.twimg.com/images/themes/theme1/bg.png', 'profile_background_tile': False, 'profile_image_url': 'http://pbs.twimg.com/profile_images/1403068608415244299/RJ9tdxY__normal.jpg', 'profile_image_url_https': 'https://pbs.twimg.com/profile_images/1403068608415244299/RJ9tdxY__normal.jpg', 'profile_banner_url': 'https://pbs.twimg.com/profile_banners/1206374840/1624581884', 'profile_link_color': '981CEB', 'profile_sidebar_border_color': '000000', 'profile_sidebar_fill_color': '000000', 'profile_text_color': '000000', 'profile_use_background_image': False, 'has_extended_profile': False, 'default_profile': False, 'default_profile_image': False, 'following': False, 'follow_request_sent': False, 'notifications': False, 'translator_type': 'none', 'withheld_in_countries': []}, 'geo': None, 'coordinates': None, 'place': None, 'contributors': None, 'is_quote_status': False, 'retweet_count': 6, 'favorite_count': 12, 'favorited': False, 'retweeted': False, 'possibly_sensitive': False, 'lang': 'pt'}, 'is_quote_status': False, 'retweet_count': 6, 'favorite_count': 0, 'favorited': False, 'retweeted': False, 'lang': 'pt'}\n"
     ]
    }
   ],
   "source": [
    "for x in all_tweets:\n",
    "    print(x._json)\n",
    "    break"
   ]
  },
  {
   "cell_type": "code",
   "execution_count": 11,
   "metadata": {},
   "outputs": [],
   "source": [
    "my_list_of_dicts = []\n",
    "for each_json_tweet in all_tweets:\n",
    "    my_list_of_dicts.append(each_json_tweet._json)\n",
    "\n",
    "df = pd.DataFrame(my_list_of_dicts)    "
   ]
  },
  {
   "cell_type": "code",
   "execution_count": 12,
   "metadata": {},
   "outputs": [
    {
     "data": {
      "text/html": [
       "<div>\n",
       "<style scoped>\n",
       "    .dataframe tbody tr th:only-of-type {\n",
       "        vertical-align: middle;\n",
       "    }\n",
       "\n",
       "    .dataframe tbody tr th {\n",
       "        vertical-align: top;\n",
       "    }\n",
       "\n",
       "    .dataframe thead th {\n",
       "        text-align: right;\n",
       "    }\n",
       "</style>\n",
       "<table border=\"1\" class=\"dataframe\">\n",
       "  <thead>\n",
       "    <tr style=\"text-align: right;\">\n",
       "      <th></th>\n",
       "      <th>created_at</th>\n",
       "      <th>id</th>\n",
       "      <th>id_str</th>\n",
       "      <th>text</th>\n",
       "      <th>truncated</th>\n",
       "      <th>entities</th>\n",
       "      <th>metadata</th>\n",
       "      <th>source</th>\n",
       "      <th>in_reply_to_status_id</th>\n",
       "      <th>in_reply_to_status_id_str</th>\n",
       "      <th>...</th>\n",
       "      <th>is_quote_status</th>\n",
       "      <th>retweet_count</th>\n",
       "      <th>favorite_count</th>\n",
       "      <th>favorited</th>\n",
       "      <th>retweeted</th>\n",
       "      <th>lang</th>\n",
       "      <th>extended_entities</th>\n",
       "      <th>possibly_sensitive</th>\n",
       "      <th>quoted_status_id</th>\n",
       "      <th>quoted_status_id_str</th>\n",
       "    </tr>\n",
       "  </thead>\n",
       "  <tbody>\n",
       "    <tr>\n",
       "      <th>0</th>\n",
       "      <td>Tue Aug 03 17:44:44 +0000 2021</td>\n",
       "      <td>1422614423777288192</td>\n",
       "      <td>1422614423777288192</td>\n",
       "      <td>RT @LouMarieHSD: Nossas reflexões sobre a zona...</td>\n",
       "      <td>False</td>\n",
       "      <td>{'hashtags': [], 'symbols': [], 'user_mentions...</td>\n",
       "      <td>{'iso_language_code': 'pt', 'result_type': 're...</td>\n",
       "      <td>&lt;a href=\"https://mobile.twitter.com\" rel=\"nofo...</td>\n",
       "      <td>NaN</td>\n",
       "      <td>None</td>\n",
       "      <td>...</td>\n",
       "      <td>False</td>\n",
       "      <td>6</td>\n",
       "      <td>0</td>\n",
       "      <td>False</td>\n",
       "      <td>False</td>\n",
       "      <td>pt</td>\n",
       "      <td>NaN</td>\n",
       "      <td>NaN</td>\n",
       "      <td>NaN</td>\n",
       "      <td>NaN</td>\n",
       "    </tr>\n",
       "    <tr>\n",
       "      <th>1</th>\n",
       "      <td>Tue Aug 03 17:44:42 +0000 2021</td>\n",
       "      <td>1422614417255145472</td>\n",
       "      <td>1422614417255145472</td>\n",
       "      <td>RT @taliriapetrone: Carlos Bolsonaro, o veread...</td>\n",
       "      <td>False</td>\n",
       "      <td>{'hashtags': [], 'symbols': [], 'user_mentions...</td>\n",
       "      <td>{'iso_language_code': 'pt', 'result_type': 're...</td>\n",
       "      <td>&lt;a href=\"http://twitter.com/download/android\" ...</td>\n",
       "      <td>NaN</td>\n",
       "      <td>None</td>\n",
       "      <td>...</td>\n",
       "      <td>False</td>\n",
       "      <td>340</td>\n",
       "      <td>0</td>\n",
       "      <td>False</td>\n",
       "      <td>False</td>\n",
       "      <td>pt</td>\n",
       "      <td>NaN</td>\n",
       "      <td>NaN</td>\n",
       "      <td>NaN</td>\n",
       "      <td>NaN</td>\n",
       "    </tr>\n",
       "    <tr>\n",
       "      <th>2</th>\n",
       "      <td>Tue Aug 03 17:44:40 +0000 2021</td>\n",
       "      <td>1422614406773542913</td>\n",
       "      <td>1422614406773542913</td>\n",
       "      <td>RT @DeputadoFederal: PARANÓIA DO CARLUXO: Depo...</td>\n",
       "      <td>False</td>\n",
       "      <td>{'hashtags': [], 'symbols': [], 'user_mentions...</td>\n",
       "      <td>{'iso_language_code': 'pt', 'result_type': 're...</td>\n",
       "      <td>&lt;a href=\"https://mobile.twitter.com\" rel=\"nofo...</td>\n",
       "      <td>NaN</td>\n",
       "      <td>None</td>\n",
       "      <td>...</td>\n",
       "      <td>False</td>\n",
       "      <td>299</td>\n",
       "      <td>0</td>\n",
       "      <td>False</td>\n",
       "      <td>False</td>\n",
       "      <td>pt</td>\n",
       "      <td>NaN</td>\n",
       "      <td>NaN</td>\n",
       "      <td>NaN</td>\n",
       "      <td>NaN</td>\n",
       "    </tr>\n",
       "    <tr>\n",
       "      <th>3</th>\n",
       "      <td>Tue Aug 03 17:44:39 +0000 2021</td>\n",
       "      <td>1422614404365832193</td>\n",
       "      <td>1422614404365832193</td>\n",
       "      <td>@re_xxx_o お部屋来て下さってありがとうございました！🙇‍♀️バグやら何やらでグダグ...</td>\n",
       "      <td>False</td>\n",
       "      <td>{'hashtags': [], 'symbols': [], 'user_mentions...</td>\n",
       "      <td>{'iso_language_code': 'ja', 'result_type': 're...</td>\n",
       "      <td>&lt;a href=\"http://twitter.com/download/iphone\" r...</td>\n",
       "      <td>1.422601e+18</td>\n",
       "      <td>1422601312424796162</td>\n",
       "      <td>...</td>\n",
       "      <td>False</td>\n",
       "      <td>0</td>\n",
       "      <td>0</td>\n",
       "      <td>False</td>\n",
       "      <td>False</td>\n",
       "      <td>ja</td>\n",
       "      <td>NaN</td>\n",
       "      <td>NaN</td>\n",
       "      <td>NaN</td>\n",
       "      <td>NaN</td>\n",
       "    </tr>\n",
       "    <tr>\n",
       "      <th>4</th>\n",
       "      <td>Tue Aug 03 17:44:39 +0000 2021</td>\n",
       "      <td>1422614402860085250</td>\n",
       "      <td>1422614402860085250</td>\n",
       "      <td>RT @urvish2020: If the government didn’t  purc...</td>\n",
       "      <td>False</td>\n",
       "      <td>{'hashtags': [{'text': 'Pegasus', 'indices': [...</td>\n",
       "      <td>{'iso_language_code': 'en', 'result_type': 're...</td>\n",
       "      <td>&lt;a href=\"http://twitter.com/download/android\" ...</td>\n",
       "      <td>NaN</td>\n",
       "      <td>None</td>\n",
       "      <td>...</td>\n",
       "      <td>False</td>\n",
       "      <td>23</td>\n",
       "      <td>0</td>\n",
       "      <td>False</td>\n",
       "      <td>False</td>\n",
       "      <td>en</td>\n",
       "      <td>NaN</td>\n",
       "      <td>NaN</td>\n",
       "      <td>NaN</td>\n",
       "      <td>NaN</td>\n",
       "    </tr>\n",
       "  </tbody>\n",
       "</table>\n",
       "<p>5 rows × 29 columns</p>\n",
       "</div>"
      ],
      "text/plain": [
       "                       created_at                   id               id_str  \\\n",
       "0  Tue Aug 03 17:44:44 +0000 2021  1422614423777288192  1422614423777288192   \n",
       "1  Tue Aug 03 17:44:42 +0000 2021  1422614417255145472  1422614417255145472   \n",
       "2  Tue Aug 03 17:44:40 +0000 2021  1422614406773542913  1422614406773542913   \n",
       "3  Tue Aug 03 17:44:39 +0000 2021  1422614404365832193  1422614404365832193   \n",
       "4  Tue Aug 03 17:44:39 +0000 2021  1422614402860085250  1422614402860085250   \n",
       "\n",
       "                                                text  truncated  \\\n",
       "0  RT @LouMarieHSD: Nossas reflexões sobre a zona...      False   \n",
       "1  RT @taliriapetrone: Carlos Bolsonaro, o veread...      False   \n",
       "2  RT @DeputadoFederal: PARANÓIA DO CARLUXO: Depo...      False   \n",
       "3  @re_xxx_o お部屋来て下さってありがとうございました！🙇‍♀️バグやら何やらでグダグ...      False   \n",
       "4  RT @urvish2020: If the government didn’t  purc...      False   \n",
       "\n",
       "                                            entities  \\\n",
       "0  {'hashtags': [], 'symbols': [], 'user_mentions...   \n",
       "1  {'hashtags': [], 'symbols': [], 'user_mentions...   \n",
       "2  {'hashtags': [], 'symbols': [], 'user_mentions...   \n",
       "3  {'hashtags': [], 'symbols': [], 'user_mentions...   \n",
       "4  {'hashtags': [{'text': 'Pegasus', 'indices': [...   \n",
       "\n",
       "                                            metadata  \\\n",
       "0  {'iso_language_code': 'pt', 'result_type': 're...   \n",
       "1  {'iso_language_code': 'pt', 'result_type': 're...   \n",
       "2  {'iso_language_code': 'pt', 'result_type': 're...   \n",
       "3  {'iso_language_code': 'ja', 'result_type': 're...   \n",
       "4  {'iso_language_code': 'en', 'result_type': 're...   \n",
       "\n",
       "                                              source  in_reply_to_status_id  \\\n",
       "0  <a href=\"https://mobile.twitter.com\" rel=\"nofo...                    NaN   \n",
       "1  <a href=\"http://twitter.com/download/android\" ...                    NaN   \n",
       "2  <a href=\"https://mobile.twitter.com\" rel=\"nofo...                    NaN   \n",
       "3  <a href=\"http://twitter.com/download/iphone\" r...           1.422601e+18   \n",
       "4  <a href=\"http://twitter.com/download/android\" ...                    NaN   \n",
       "\n",
       "  in_reply_to_status_id_str  ...  is_quote_status retweet_count  \\\n",
       "0                      None  ...            False             6   \n",
       "1                      None  ...            False           340   \n",
       "2                      None  ...            False           299   \n",
       "3       1422601312424796162  ...            False             0   \n",
       "4                      None  ...            False            23   \n",
       "\n",
       "  favorite_count favorited retweeted lang extended_entities  \\\n",
       "0              0     False     False   pt               NaN   \n",
       "1              0     False     False   pt               NaN   \n",
       "2              0     False     False   pt               NaN   \n",
       "3              0     False     False   ja               NaN   \n",
       "4              0     False     False   en               NaN   \n",
       "\n",
       "  possibly_sensitive quoted_status_id  quoted_status_id_str  \n",
       "0                NaN              NaN                   NaN  \n",
       "1                NaN              NaN                   NaN  \n",
       "2                NaN              NaN                   NaN  \n",
       "3                NaN              NaN                   NaN  \n",
       "4                NaN              NaN                   NaN  \n",
       "\n",
       "[5 rows x 29 columns]"
      ]
     },
     "execution_count": 12,
     "metadata": {},
     "output_type": "execute_result"
    }
   ],
   "source": [
    "df.head()"
   ]
  },
  {
   "cell_type": "code",
   "execution_count": 13,
   "metadata": {},
   "outputs": [
    {
     "data": {
      "text/plain": [
       "Index(['created_at', 'id', 'id_str', 'text', 'truncated', 'entities',\n",
       "       'metadata', 'source', 'in_reply_to_status_id',\n",
       "       'in_reply_to_status_id_str', 'in_reply_to_user_id',\n",
       "       'in_reply_to_user_id_str', 'in_reply_to_screen_name', 'user', 'geo',\n",
       "       'coordinates', 'place', 'contributors', 'retweeted_status',\n",
       "       'is_quote_status', 'retweet_count', 'favorite_count', 'favorited',\n",
       "       'retweeted', 'lang', 'extended_entities', 'possibly_sensitive',\n",
       "       'quoted_status_id', 'quoted_status_id_str'],\n",
       "      dtype='object')"
      ]
     },
     "execution_count": 13,
     "metadata": {},
     "output_type": "execute_result"
    }
   ],
   "source": [
    "df.columns"
   ]
  },
  {
   "cell_type": "code",
   "execution_count": null,
   "metadata": {},
   "outputs": [],
   "source": []
  },
  {
   "cell_type": "code",
   "execution_count": 14,
   "metadata": {
    "scrolled": true
   },
   "outputs": [
    {
     "name": "stdout",
     "output_type": "stream",
     "text": [
      "RT @LouMarieHSD: Nossas reflexões sobre a zona cinzenta entre atividades de intel, OSINT e aquisição de techs.O Pegasus é o caso mais evide…\n",
      "Sentiment(polarity=0.0, subjectivity=0.0)\n",
      "Negative\n",
      "RT @taliriapetrone: Carlos Bolsonaro, o vereador federal, além de querer importar o Pegasus (para espionar jornalistas e ativistas), queria…\n",
      "Sentiment(polarity=0.0, subjectivity=0.0)\n",
      "Negative\n",
      "RT @DeputadoFederal: PARANÓIA DO CARLUXO: Depois do Pegasus, Carlos Bolsonaro tentou comprar o Sherlock, sistema para espionar cúpula do pr…\n",
      "Sentiment(polarity=0.0, subjectivity=0.0)\n",
      "Negative\n",
      "@re_xxx_o お部屋来て下さってありがとうございました！🙇‍♀️バグやら何やらでグダグダでしたがまた気が向いたら遊びに来て下さい😢\n",
      "フォローもありがとうございます🙏✨\n",
      "Sentiment(polarity=0.0, subjectivity=0.0)\n",
      "Negative\n",
      "RT @urvish2020: If the government didn’t  purchase #Pegasus, was it a gift to old practitioners of snooping?\n",
      "Sentiment(polarity=0.1, subjectivity=0.2)\n",
      "Positive\n",
      "العطر السابع Pegasus Exclusif من de Marly\n",
      " من اشهر العطور الرجالية اللي تعشها النساء على الجنس الاخر https://t.co/Tb2IzGPeHt\n",
      "Sentiment(polarity=0.0, subjectivity=0.0)\n",
      "Negative\n",
      "RT @Prakash47834151: आसमान छूती महंगाई के खिलाफ, बेलगाम बेरोजगारी के खिलाफ, काले कृषि कानून के खिलाफ, #Pegasus जैसे संविधान विरोधी जासूसी…\n",
      "Sentiment(polarity=0.0, subjectivity=0.0)\n",
      "Negative\n",
      "@MG_gO_2thepolls @fedtanyl The moral dimension aside, thanks to the hyper-litigious nature of US society and law, t… https://t.co/NEoeM0UjN8\n",
      "Sentiment(polarity=0.1, subjectivity=0.225)\n",
      "Positive\n",
      "RT @nandtara: Watch the incisive @parakala on l’affaire #Pegasus opining that the hoopla over @WhatsApp encryption was merely to distract f…\n",
      "Sentiment(polarity=-0.5, subjectivity=0.5)\n",
      "Negative\n",
      "RT @Stanalb: Disasters of last 7 years\n",
      "🔸Demonitisation\n",
      "🔸Flawed GST\n",
      "🔸Article 370\n",
      "🔸State made as an UT\n",
      "🔸Mandates demolished\n",
      "🔸Covid Mismanagem…\n",
      "Sentiment(polarity=0.0, subjectivity=0.06666666666666667)\n",
      "Negative\n",
      "RT @priyankac19: Better late than never. Bihar CM Nitish Kumar ji, BJP’s steadfast ally, asks for a probe and discussion on Pegasus, which…\n",
      "Sentiment(polarity=0.20000000000000004, subjectivity=0.6333333333333334)\n",
      "Positive\n",
      "RT @derekobrienmp: #Pegasus in #Parliament The poster that sneaked past the CENSOR.\n",
      "Sentiment(polarity=-0.25, subjectivity=0.25)\n",
      "Negative\n",
      "RT @d_schneidermann: Pegasus, ce sont aussi de bonnes affaires ! Une enquête de @lorisguemart https://t.co/kHEinE6WUz\n",
      "Sentiment(polarity=0.0, subjectivity=0.0)\n",
      "Negative\n",
      "RT @IndiaToday: Pegasus is a issue of national security, Home Minister Amit Shah and Prime Minister Narendra Modi must answer the questions…\n",
      "Sentiment(polarity=0.0, subjectivity=0.0)\n",
      "Negative\n",
      "RT @IndiaToday: Pegasus is a issue of national security, Home Minister Amit Shah and Prime Minister Narendra Modi must answer the questions…\n",
      "Sentiment(polarity=0.0, subjectivity=0.0)\n",
      "Negative\n"
     ]
    }
   ],
   "source": [
    "#Sentiment Analysis Using TextBlob Library\n",
    "\n",
    "for tweet in all_tweets:\n",
    "    print(tweet.text)\n",
    "    analysis = TextBlob(tweet.text)\n",
    "    print(analysis.sentiment)\n",
    "    if analysis.sentiment[0]>0:\n",
    "        print ('Positive')\n",
    "    else:\n",
    "        print ('Negative')\n"
   ]
  },
  {
   "cell_type": "code",
   "execution_count": 15,
   "metadata": {},
   "outputs": [],
   "source": [
    "sample_df = pd.DataFrame(df.text)"
   ]
  },
  {
   "cell_type": "code",
   "execution_count": 16,
   "metadata": {},
   "outputs": [],
   "source": [
    "pd.set_option('display.max_colwidth', 10000)"
   ]
  },
  {
   "cell_type": "code",
   "execution_count": 17,
   "metadata": {},
   "outputs": [],
   "source": [
    "import re\n",
    "import string\n",
    "import nltk\n",
    "from nltk.corpus import stopwords"
   ]
  },
  {
   "cell_type": "code",
   "execution_count": 18,
   "metadata": {},
   "outputs": [
    {
     "name": "stderr",
     "output_type": "stream",
     "text": [
      "[nltk_data] Downloading package stopwords to C:\\Users\\jagvir\n",
      "[nltk_data]     sinhj\\AppData\\Roaming\\nltk_data...\n",
      "[nltk_data]   Package stopwords is already up-to-date!\n"
     ]
    },
    {
     "data": {
      "text/plain": [
       "True"
      ]
     },
     "execution_count": 18,
     "metadata": {},
     "output_type": "execute_result"
    }
   ],
   "source": [
    "nltk.download('stopwords')"
   ]
  },
  {
   "cell_type": "code",
   "execution_count": 19,
   "metadata": {},
   "outputs": [],
   "source": [
    "def clean_text(tweet):\n",
    "    \n",
    "    #Removing @xyz and hashtags\n",
    "    tweet = (re.sub(\"(@[A-Za-z0-9]+)|(\\w+:\\/\\/\\S+)|(\\n)|(rt)\", \" \", tweet))\n",
    "    \n",
    "    # Removing Puntuations\n",
    "    no_punct = \"\".join(word for word in tweet if word not in string.punctuation)\n",
    "    \n",
    "    #Removing Stopwords \n",
    "    Stopwords = set(stopwords.words('english'))\n",
    "    tokens = re.split(\"\\W+\",no_punct)\n",
    "    final_text = ' '.join([word for word in tokens if word not in Stopwords])\n",
    "    \n",
    "    return final_text\n",
    "    "
   ]
  },
  {
   "cell_type": "code",
   "execution_count": 20,
   "metadata": {},
   "outputs": [],
   "source": [
    "sample_df['clean text'] = sample_df['text'].apply(lambda x: clean_text(x.lower()))"
   ]
  },
  {
   "cell_type": "code",
   "execution_count": 21,
   "metadata": {},
   "outputs": [
    {
     "data": {
      "text/html": [
       "<div>\n",
       "<style scoped>\n",
       "    .dataframe tbody tr th:only-of-type {\n",
       "        vertical-align: middle;\n",
       "    }\n",
       "\n",
       "    .dataframe tbody tr th {\n",
       "        vertical-align: top;\n",
       "    }\n",
       "\n",
       "    .dataframe thead th {\n",
       "        text-align: right;\n",
       "    }\n",
       "</style>\n",
       "<table border=\"1\" class=\"dataframe\">\n",
       "  <thead>\n",
       "    <tr style=\"text-align: right;\">\n",
       "      <th></th>\n",
       "      <th>text</th>\n",
       "      <th>clean text</th>\n",
       "    </tr>\n",
       "  </thead>\n",
       "  <tbody>\n",
       "    <tr>\n",
       "      <th>0</th>\n",
       "      <td>RT @LouMarieHSD: Nossas reflexões sobre a zona cinzenta entre atividades de intel, OSINT e aquisição de techs.O Pegasus é o caso mais evide…</td>\n",
       "      <td>nossas reflexões sobre zona cinzenta entre atividades de intel osint e aquisição de techso pegasus é caso mais evide</td>\n",
       "    </tr>\n",
       "    <tr>\n",
       "      <th>1</th>\n",
       "      <td>RT @taliriapetrone: Carlos Bolsonaro, o vereador federal, além de querer importar o Pegasus (para espionar jornalistas e ativistas), queria…</td>\n",
       "      <td>carlos bolsonaro vereador federal além de querer impo ar pegasus para espionar jornalistas e ativistas queria</td>\n",
       "    </tr>\n",
       "    <tr>\n",
       "      <th>2</th>\n",
       "      <td>RT @DeputadoFederal: PARANÓIA DO CARLUXO: Depois do Pegasus, Carlos Bolsonaro tentou comprar o Sherlock, sistema para espionar cúpula do pr…</td>\n",
       "      <td>paranóia carluxo depois pegasus carlos bolsonaro tentou comprar sherlock sistema para espionar cúpula pr</td>\n",
       "    </tr>\n",
       "    <tr>\n",
       "      <th>3</th>\n",
       "      <td>@re_xxx_o お部屋来て下さってありがとうございました！🙇‍♀️バグやら何やらでグダグダでしたがまた気が向いたら遊びに来て下さい😢\\nフォローもありがとうございます🙏✨</td>\n",
       "      <td>xxxo お部屋来て下さってありがとうございました バグやら何やらでグダグダでしたがまた気が向いたら遊びに来て下さい フォローもありがとうございます</td>\n",
       "    </tr>\n",
       "    <tr>\n",
       "      <th>4</th>\n",
       "      <td>RT @urvish2020: If the government didn’t  purchase #Pegasus, was it a gift to old practitioners of snooping?</td>\n",
       "      <td>government purchase pegasus gift old practitioners snooping</td>\n",
       "    </tr>\n",
       "  </tbody>\n",
       "</table>\n",
       "</div>"
      ],
      "text/plain": [
       "                                                                                                                                           text  \\\n",
       "0  RT @LouMarieHSD: Nossas reflexões sobre a zona cinzenta entre atividades de intel, OSINT e aquisição de techs.O Pegasus é o caso mais evide…   \n",
       "1  RT @taliriapetrone: Carlos Bolsonaro, o vereador federal, além de querer importar o Pegasus (para espionar jornalistas e ativistas), queria…   \n",
       "2  RT @DeputadoFederal: PARANÓIA DO CARLUXO: Depois do Pegasus, Carlos Bolsonaro tentou comprar o Sherlock, sistema para espionar cúpula do pr…   \n",
       "3                                                       @re_xxx_o お部屋来て下さってありがとうございました！🙇‍♀️バグやら何やらでグダグダでしたがまた気が向いたら遊びに来て下さい😢\\nフォローもありがとうございます🙏✨   \n",
       "4                                  RT @urvish2020: If the government didn’t  purchase #Pegasus, was it a gift to old practitioners of snooping?   \n",
       "\n",
       "                                                                                                               clean text  \n",
       "0   nossas reflexões sobre zona cinzenta entre atividades de intel osint e aquisição de techso pegasus é caso mais evide   \n",
       "1          carlos bolsonaro vereador federal além de querer impo ar pegasus para espionar jornalistas e ativistas queria   \n",
       "2               paranóia carluxo depois pegasus carlos bolsonaro tentou comprar sherlock sistema para espionar cúpula pr   \n",
       "3                                             xxxo お部屋来て下さってありがとうございました バグやら何やらでグダグダでしたがまた気が向いたら遊びに来て下さい フォローもありがとうございます   \n",
       "4                                                             government purchase pegasus gift old practitioners snooping  "
      ]
     },
     "execution_count": 21,
     "metadata": {},
     "output_type": "execute_result"
    }
   ],
   "source": [
    "sample_df.head()"
   ]
  },
  {
   "cell_type": "code",
   "execution_count": 22,
   "metadata": {},
   "outputs": [
    {
     "name": "stdout",
     "output_type": "stream",
     "text": [
      " government purchase pegasus gift old practitioners snooping\n"
     ]
    }
   ],
   "source": [
    "print(sample_df['clean text'][4])"
   ]
  },
  {
   "cell_type": "code",
   "execution_count": 23,
   "metadata": {},
   "outputs": [],
   "source": [
    "def Sentiment(tweet):\n",
    "    analysis = TextBlob(tweet)\n",
    "    if analysis.sentiment.polarity>0:\n",
    "        review = 'Positive'\n",
    "    elif analysis.sentiment.polarity<0:\n",
    "        review = 'Negative'\n",
    "    else:\n",
    "        review = 'Neutral'\n",
    "    \n",
    "    return review"
   ]
  },
  {
   "cell_type": "code",
   "execution_count": 24,
   "metadata": {},
   "outputs": [],
   "source": [
    "sample_df['Review'] = sample_df['clean text'].apply(lambda x: Sentiment(x))"
   ]
  },
  {
   "cell_type": "code",
   "execution_count": 25,
   "metadata": {},
   "outputs": [
    {
     "data": {
      "text/html": [
       "<div>\n",
       "<style scoped>\n",
       "    .dataframe tbody tr th:only-of-type {\n",
       "        vertical-align: middle;\n",
       "    }\n",
       "\n",
       "    .dataframe tbody tr th {\n",
       "        vertical-align: top;\n",
       "    }\n",
       "\n",
       "    .dataframe thead th {\n",
       "        text-align: right;\n",
       "    }\n",
       "</style>\n",
       "<table border=\"1\" class=\"dataframe\">\n",
       "  <thead>\n",
       "    <tr style=\"text-align: right;\">\n",
       "      <th></th>\n",
       "      <th>text</th>\n",
       "      <th>clean text</th>\n",
       "      <th>Review</th>\n",
       "    </tr>\n",
       "  </thead>\n",
       "  <tbody>\n",
       "    <tr>\n",
       "      <th>0</th>\n",
       "      <td>RT @LouMarieHSD: Nossas reflexões sobre a zona cinzenta entre atividades de intel, OSINT e aquisição de techs.O Pegasus é o caso mais evide…</td>\n",
       "      <td>nossas reflexões sobre zona cinzenta entre atividades de intel osint e aquisição de techso pegasus é caso mais evide</td>\n",
       "      <td>Neutral</td>\n",
       "    </tr>\n",
       "    <tr>\n",
       "      <th>1</th>\n",
       "      <td>RT @taliriapetrone: Carlos Bolsonaro, o vereador federal, além de querer importar o Pegasus (para espionar jornalistas e ativistas), queria…</td>\n",
       "      <td>carlos bolsonaro vereador federal além de querer impo ar pegasus para espionar jornalistas e ativistas queria</td>\n",
       "      <td>Neutral</td>\n",
       "    </tr>\n",
       "    <tr>\n",
       "      <th>2</th>\n",
       "      <td>RT @DeputadoFederal: PARANÓIA DO CARLUXO: Depois do Pegasus, Carlos Bolsonaro tentou comprar o Sherlock, sistema para espionar cúpula do pr…</td>\n",
       "      <td>paranóia carluxo depois pegasus carlos bolsonaro tentou comprar sherlock sistema para espionar cúpula pr</td>\n",
       "      <td>Neutral</td>\n",
       "    </tr>\n",
       "    <tr>\n",
       "      <th>3</th>\n",
       "      <td>@re_xxx_o お部屋来て下さってありがとうございました！🙇‍♀️バグやら何やらでグダグダでしたがまた気が向いたら遊びに来て下さい😢\\nフォローもありがとうございます🙏✨</td>\n",
       "      <td>xxxo お部屋来て下さってありがとうございました バグやら何やらでグダグダでしたがまた気が向いたら遊びに来て下さい フォローもありがとうございます</td>\n",
       "      <td>Neutral</td>\n",
       "    </tr>\n",
       "    <tr>\n",
       "      <th>4</th>\n",
       "      <td>RT @urvish2020: If the government didn’t  purchase #Pegasus, was it a gift to old practitioners of snooping?</td>\n",
       "      <td>government purchase pegasus gift old practitioners snooping</td>\n",
       "      <td>Positive</td>\n",
       "    </tr>\n",
       "  </tbody>\n",
       "</table>\n",
       "</div>"
      ],
      "text/plain": [
       "                                                                                                                                           text  \\\n",
       "0  RT @LouMarieHSD: Nossas reflexões sobre a zona cinzenta entre atividades de intel, OSINT e aquisição de techs.O Pegasus é o caso mais evide…   \n",
       "1  RT @taliriapetrone: Carlos Bolsonaro, o vereador federal, além de querer importar o Pegasus (para espionar jornalistas e ativistas), queria…   \n",
       "2  RT @DeputadoFederal: PARANÓIA DO CARLUXO: Depois do Pegasus, Carlos Bolsonaro tentou comprar o Sherlock, sistema para espionar cúpula do pr…   \n",
       "3                                                       @re_xxx_o お部屋来て下さってありがとうございました！🙇‍♀️バグやら何やらでグダグダでしたがまた気が向いたら遊びに来て下さい😢\\nフォローもありがとうございます🙏✨   \n",
       "4                                  RT @urvish2020: If the government didn’t  purchase #Pegasus, was it a gift to old practitioners of snooping?   \n",
       "\n",
       "                                                                                                               clean text  \\\n",
       "0   nossas reflexões sobre zona cinzenta entre atividades de intel osint e aquisição de techso pegasus é caso mais evide    \n",
       "1          carlos bolsonaro vereador federal além de querer impo ar pegasus para espionar jornalistas e ativistas queria    \n",
       "2               paranóia carluxo depois pegasus carlos bolsonaro tentou comprar sherlock sistema para espionar cúpula pr    \n",
       "3                                             xxxo お部屋来て下さってありがとうございました バグやら何やらでグダグダでしたがまた気が向いたら遊びに来て下さい フォローもありがとうございます    \n",
       "4                                                             government purchase pegasus gift old practitioners snooping   \n",
       "\n",
       "     Review  \n",
       "0   Neutral  \n",
       "1   Neutral  \n",
       "2   Neutral  \n",
       "3   Neutral  \n",
       "4  Positive  "
      ]
     },
     "execution_count": 25,
     "metadata": {},
     "output_type": "execute_result"
    }
   ],
   "source": [
    "sample_df.head()"
   ]
  },
  {
   "cell_type": "code",
   "execution_count": null,
   "metadata": {},
   "outputs": [],
   "source": []
  }
 ],
 "metadata": {
  "kernelspec": {
   "display_name": "Python 3",
   "language": "python",
   "name": "python3"
  },
  "language_info": {
   "codemirror_mode": {
    "name": "ipython",
    "version": 3
   },
   "file_extension": ".py",
   "mimetype": "text/x-python",
   "name": "python",
   "nbconvert_exporter": "python",
   "pygments_lexer": "ipython3",
   "version": "3.8.5"
  }
 },
 "nbformat": 4,
 "nbformat_minor": 4
}
